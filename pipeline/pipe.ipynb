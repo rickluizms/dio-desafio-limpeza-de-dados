{
 "cells": [
  {
   "cell_type": "markdown",
   "metadata": {},
   "source": [
    "# Pipeline de Dados\n",
    "\n",
    "Este pipeline tem como objetivo ler os dados baixados pelo kaggle e realizar a carga no banco de dados. "
   ]
  },
  {
   "cell_type": "markdown",
   "metadata": {},
   "source": [
    "**Instalar dependencias**"
   ]
  },
  {
   "cell_type": "code",
   "execution_count": null,
   "metadata": {},
   "outputs": [],
   "source": [
    "%pip install -r \"../requirements.txt\""
   ]
  },
  {
   "cell_type": "markdown",
   "metadata": {},
   "source": [
    "**Configurações do banco de dados**"
   ]
  },
  {
   "cell_type": "code",
   "execution_count": 3,
   "metadata": {},
   "outputs": [],
   "source": [
    "# Banco de dados Azure\n",
    "\n",
    "server = \"server\"\n",
    "db = \"database\"\n",
    "user = \"username\"\n",
    "password = \"password\"\n",
    "\n",
    "str_conn = f'Driver={{ODBC Driver 18 for SQL Server}};Server=tcp:{server},1433;Database={db};Uid={user};Pwd={password};Encrypt=yes;TrustServerCertificate=no;Connection Timeout=30;'"
   ]
  },
  {
   "cell_type": "markdown",
   "metadata": {},
   "source": [
    "**Criar a tabela openings**"
   ]
  },
  {
   "cell_type": "code",
   "execution_count": null,
   "metadata": {},
   "outputs": [],
   "source": [
    "import pandas as pd\n",
    "from datetime import datetime, timedelta\n",
    "from load import *\n",
    "\n",
    "moedas = ['BTC-USD', 'DOGE-USD', 'ETH-USD', 'XRP-USD']\n",
    "\n",
    "data_inicio = datetime(2010, 1, 1)\n",
    "data_fim = datetime.now()\n",
    "\n",
    "dados = []\n",
    "\n",
    "for moeda in moedas:\n",
    "    data_atual = data_inicio\n",
    "    while data_atual <= data_fim:\n",
    "        dados.append([data_atual, moeda])\n",
    "        data_atual += timedelta(days=1)\n",
    "\n",
    "openings = pd.DataFrame(dados, columns=['Data de abertura', 'Moeda'])\n",
    "\n",
    "insert_table(table_name_str=\"openings\", data=openings, str_conn=str_conn)"
   ]
  },
  {
   "cell_type": "markdown",
   "metadata": {},
   "source": [
    "**Ler e carregar dados no banco de dados**"
   ]
  },
  {
   "cell_type": "code",
   "execution_count": null,
   "metadata": {},
   "outputs": [],
   "source": [
    "import pandas as pd\n",
    "from load import *\n",
    "\n",
    "df_metadata = pd.read_csv(\"metadata.csv\")\n",
    "\n",
    "insert_table(table_name_str=\"metadata\", data=df_metadata, str_conn=str_conn)\n",
    "\n",
    "for index, row in df_metadata.iterrows():\n",
    "    tbl_name = row['Coin Pair Name'].replace(\"-\", \"\")\n",
    "    file_path = row['File Path']\n",
    "    data = pd.read_csv(f\"data/{file_path}\")\n",
    "    insert_table(tbl_name, data, str_conn)"
   ]
  }
 ],
 "metadata": {
  "kernelspec": {
   "display_name": "Python 3",
   "language": "python",
   "name": "python3"
  },
  "language_info": {
   "codemirror_mode": {
    "name": "ipython",
    "version": 3
   },
   "file_extension": ".py",
   "mimetype": "text/x-python",
   "name": "python",
   "nbconvert_exporter": "python",
   "pygments_lexer": "ipython3",
   "version": "3.9.13"
  }
 },
 "nbformat": 4,
 "nbformat_minor": 2
}
